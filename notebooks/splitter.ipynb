{
 "cells": [
  {
   "cell_type": "code",
   "execution_count": 1,
   "metadata": {},
   "outputs": [
    {
     "data": {
      "text/plain": [
       "True"
      ]
     },
     "execution_count": 1,
     "metadata": {},
     "output_type": "execute_result"
    }
   ],
   "source": [
    "import os\n",
    "import sys\n",
    "sys.path.append(\"../\")\n",
    "from dotenv import load_dotenv\n",
    "load_dotenv()"
   ]
  },
  {
   "cell_type": "code",
   "execution_count": 2,
   "metadata": {},
   "outputs": [],
   "source": [
    "credentials = {\n",
    "    \"url\": os.getenv(\"WML_URL\"),\n",
    "    \"apikey\": os.getenv(\"IBMCLOUD_APIKEY\"),\n",
    "    \"project_id\": os.getenv(\"WS_PROJECT_ID\")\n",
    "}"
   ]
  },
  {
   "cell_type": "code",
   "execution_count": 3,
   "metadata": {},
   "outputs": [],
   "source": [
    "from text_reader import PDFProcessor\n",
    "from watsonx_ai import WatsonxLLM\n",
    "from agentic_propositions import CreatePropositions \n",
    "from agentic_chunker import AgenticChunker"
   ]
  },
  {
   "cell_type": "code",
   "execution_count": 5,
   "metadata": {},
   "outputs": [
    {
     "name": "stdout",
     "output_type": "stream",
     "text": [
      "Number of split raw text pieces: 1\n"
     ]
    },
    {
     "data": {
      "text/plain": [
       "1"
      ]
     },
     "execution_count": 5,
     "metadata": {},
     "output_type": "execute_result"
    }
   ],
   "source": [
    "pdf_processor = PDFProcessor()\n",
    "nodes = pdf_processor.process_document(pdf_file=\"data/pdf_files.pdf\")\n",
    "len(nodes)"
   ]
  },
  {
   "cell_type": "code",
   "execution_count": 11,
   "metadata": {},
   "outputs": [
    {
     "name": "stdout",
     "output_type": "stream",
     "text": [
      "PDF Files \n",
      "Scan – Create – Reduce File Size  \n",
      "\n",
      "It is recommended that you purchase an Adobe Acrobat product that \n",
      "allows you to read, create and manipulate PDF documents.  Go to \n",
      "http://www.adobe.com/products/acrobat/matrix.html to compare \n",
      "Adobe products and features –Adobe Acrobat Standard is sufficient. \n",
      "\n",
      "Scanning Documents \n",
      "\n",
      "You should only have to scan documents that are not electronic, and \n",
      "when you are unable to create a PDF using PDFMaker or the Print \n",
      "Command from the application you are using.   \n",
      "\n",
      "Signature Pages \n",
      "If you have a document such as a CV that requires a signature on a \n",
      "page only print the page that requires the signature –printing the \n",
      "entire document and scanning it is not necessary or desired.  Once you \n",
      "sign and scan the signature page you can combine it with the original \n",
      "document using the Create PDF From Multiple Files feature. \n",
      "\n",
      "Scanner Settings \n",
      "Before scanning documents remember to make certain that the \n",
      "following settings are activated on your scanner (settings may vary): \n",
      "(cid:131)  Document Mode \n",
      "(cid:131)  Scan to smallest size \n",
      "(cid:131)  Fast (lowest quality) \n",
      "(cid:131)  Grayscale or black and white  \n",
      "(cid:131)  Resolution: 300dpi or less \n",
      "\n",
      "Page 1 of 4 \n",
      "\n",
      " \n",
      " \n",
      " \n",
      " \n",
      " \n",
      " \n",
      " \n",
      " \n",
      "\fCreating PDF Documents \n",
      "\n",
      "Option 1 – Use Adobe PDF Printer Command: \n",
      "In many authoring applications, you can use the Print command with \n",
      "the Adobe PDF printer to convert your file to PDF.  \n",
      "\n",
      "Create a PDF using the Print command (Windows) \n",
      "1. Open the file in its authoring application, and choose File > Print. \n",
      "2. Choose Adobe PDF from the printer menu. \n",
      "\n",
      "3. Click the Properties (or Preferences) button to customize the Adobe \n",
      "PDF printer setting. (In some applications, you may need to click \n",
      "Setup in the Print dialog box to open the list of printers, and then click \n",
      "Properties or Preferences.)  Choose Smallest File Size as your default \n",
      "setting. \n",
      "\n",
      "4. In the Print dialog box, click OK and Save your file. \n",
      "\n",
      "Create a PDF using the Print command (Mac OS) \n",
      "1. Open the file in its authoring application, and choose File > Print. \n",
      "2. Click on the PDF button in the Print window. \n",
      "3. Click Save as PDF.\n",
      "\n",
      "Page 2 of 4 \n",
      "\n",
      " \n",
      " \n",
      " \n",
      " \n",
      " \n",
      " \n",
      " \n",
      " \n",
      " \n",
      " \n",
      " \n",
      " \n",
      "\fCreating PDF Documents (continued) \n",
      "\n",
      "Option 2: If you do not have Acrobat Standard or higher \n",
      "installed use PS2PSF.*  \n",
      "\n",
      "1.  Open the file in its authoring application, and choose File > Print. \n",
      "2.  Select “Print to File” and save. \n",
      "3.  Open your browser and go to http://ps2pdf.com/convert.htm \n",
      "4.  Click “browse” select the file you created in step 2 (.prn or .ps), \n",
      "\n",
      "click “convert” \n",
      "\n",
      "5.  Download the newly created PDF file. \n",
      "*Note: Some formatting changes may occur once converted (bullets \n",
      "may turn to symbols and color may become black and white). \n",
      "\n",
      "Page 3 of 4 \n",
      "\n",
      " \n",
      " \n",
      " \n",
      " \n",
      " \n",
      " \n",
      " \n",
      " \n",
      " \n",
      " \n",
      " \n",
      " \n",
      "\fReducing File Size Options \n",
      "\n",
      "*WebDCU will accept files up to 2.0MB.* \n",
      "\n",
      "Here is a rough estimate for PDF file sizes: \n",
      "If the contents are pure text, like a CV, the file size is usually 10kb per \n",
      "page; therefore, a 1MB file will have about 100 pages.  If the file \n",
      "includes some pictures, the file size may increase. If the file is a \n",
      "picture, like a scanned license or certification, you may have different \n",
      "file sizes based on the picture quality.  In most cases, saving the file at \n",
      "about 250kb per page should be enough to generate a clear picture. \n",
      "\n",
      "Option 1 – Use Adobe PDF Print Command: \n",
      "1. Open the PDF file, and choose File > Print. \n",
      "2. Choose Adobe PDF from the printer menu next to Name. \n",
      "3. Click the Properties (or Preferences) button to customize the Adobe \n",
      "PDF printer setting. (In some applications, you may need to click \n",
      "Setup in the Print dialog box to open the list of printers, and then click \n",
      "Properties or Preferences.)  Choose Smallest File Size as your default \n",
      "setting. \n",
      "4. In the Print dialog box, click OK.   \n",
      "5. Save the new (smaller) PDF file. \n",
      "\n",
      "Option 2 – Use Adobe PDF “Reduce File Size”: \n",
      "1. Open the file in Adobe Acrobat and choose File > Reduce File Size...  \n",
      "2. For our purposes, please make these files \"compatible with\" version \n",
      "Acrobat 5.0 or later. \n",
      "3. Save the new (smaller) PDF file. \n",
      "\n",
      "Page 4 of 4\n"
     ]
    }
   ],
   "source": [
    "print(nodes[0])"
   ]
  },
  {
   "cell_type": "code",
   "execution_count": 6,
   "metadata": {},
   "outputs": [
    {
     "name": "stdout",
     "output_type": "stream",
     "text": [
      "Watsonx LLM initialized successfully.\n"
     ]
    }
   ],
   "source": [
    "watsonx_llm = WatsonxLLM(model_id = \"mistralai/mixtral-8x7b-instruct-v01\", credentials = credentials)"
   ]
  },
  {
   "cell_type": "code",
   "execution_count": 7,
   "metadata": {},
   "outputs": [
    {
     "name": "stderr",
     "output_type": "stream",
     "text": [
      "1it [00:13, 13.30s/it]"
     ]
    },
    {
     "name": "stdout",
     "output_type": "stream",
     "text": [
      "Extracted stand-alone statements from provided text: 12\n",
      "Done with paragraph 0\n",
      "You have 12 propositions\n"
     ]
    },
    {
     "name": "stderr",
     "output_type": "stream",
     "text": [
      "\n"
     ]
    },
    {
     "data": {
      "text/plain": [
       "12"
      ]
     },
     "execution_count": 7,
     "metadata": {},
     "output_type": "execute_result"
    }
   ],
   "source": [
    "cp = CreatePropositions(llm = watsonx_llm, source_language = \"English\", verbose = False)\n",
    "result = cp.get_propositions(nodes)\n",
    "len(result)"
   ]
  },
  {
   "cell_type": "code",
   "execution_count": 12,
   "metadata": {},
   "outputs": [
    {
     "data": {
      "text/plain": [
       "['PDF Files can be scanned, created, and reduced in file size.',\n",
       " 'Adobe Acrobat products allow users to read, create, and manipulate PDF documents.',\n",
       " 'Adobe Acrobat Standard is a sufficient product for creating PDF documents.',\n",
       " 'Documents should only be scanned if they are not electronic and when creating a PDF using PDFMaker or the Print Command is not possible.',\n",
       " 'Signature pages should be printed and scanned separately if a document requires a signature.',\n",
       " 'Scanner settings should be adjusted before scanning documents including Document Mode, Scan to smallest size, Fast (lowest quality), Grayscale or black and white, and Resolution: 300dpi or less.',\n",
       " 'Creating PDF documents can be done using the Adobe PDF Printer Command or PS2PSF.',\n",
       " 'The Adobe PDF Printer Command can be used in many authoring applications by choosing File > Print and selecting Adobe PDF from the printer menu.',\n",
       " 'The PS2PSF method can be used if Acrobat Standard or higher is not installed.',\n",
       " 'WebDCU accepts files up to 2.0MB and file sizes can vary depending on the content.',\n",
       " \"Adobe PDF Print Command and Adobe PDF 'Reduce File Size' can be used to reduce file size.\",\n",
       " \"Adobe PDF 'Reduce File Size' files should be made compatible with Acrobat 5.0 or later.\"]"
      ]
     },
     "execution_count": 12,
     "metadata": {},
     "output_type": "execute_result"
    }
   ],
   "source": [
    "result"
   ]
  },
  {
   "cell_type": "code",
   "execution_count": 15,
   "metadata": {},
   "outputs": [
    {
     "name": "stdout",
     "output_type": "stream",
     "text": [
      "----------------------------------------------------------------------------------------------------\n",
      "add_propositions\n",
      "----------------------------------------------------------------------------------------------------\n",
      "Chunk Found -->  f8f61\n",
      "Chunk Found -->  f8f61\n",
      "Chunk Found -->  f8f61\n",
      "Chunk Found -->  No chunks\n",
      "Chunk Found -->  f8f61\n",
      "Chunk Found -->  f8f61\n",
      "Chunk Found -->  f8f61\n",
      "Chunk Found -->  No chunks\n",
      "Chunk Found -->  No chunks\n",
      "Chunk Found -->  f8f61\n",
      "Chunk Found -->  f8f61\n",
      "----------------------------------------------------------------------------------------------------\n",
      "pretty_print_chunks\n",
      "----------------------------------------------------------------------------------------------------\n",
      "\n",
      "You have 4 chunks\n",
      "\n",
      "Chunk #0\n",
      "Chunk ID: f8f61\n",
      "Summary: This chunk focuses on strategies for creating, handling, and optimizing different document formats, emphasizing PDF management through scanner settings, Adobe Acrobat functionalities, and broad document conversion practices.\n",
      "Propositions:\n",
      "    -PDF Files can be scanned, created, and reduced in file size.\n",
      "    -Adobe Acrobat products allow users to read, create, and manipulate PDF documents.\n",
      "    -Adobe Acrobat Standard is a sufficient product for creating PDF documents.\n",
      "    -Documents should only be scanned if they are not electronic and when creating a PDF using PDFMaker or the Print Command is not possible.\n",
      "    -Scanner settings should be adjusted before scanning documents including Document Mode, Scan to smallest size, Fast (lowest quality), Grayscale or black and white, and Resolution: 300dpi or less.\n",
      "    -Creating PDF documents can be done using the Adobe PDF Printer Command or PS2PSF.\n",
      "    -The Adobe PDF Printer Command can be used in many authoring applications by choosing File > Print and selecting Adobe PDF from the printer menu.\n",
      "    -Adobe PDF Print Command and Adobe PDF 'Reduce File Size' can be used to reduce file size.\n",
      "    -Adobe PDF 'Reduce File Size' files should be made compatible with Acrobat 5.0 or later.\n",
      "\n",
      "\n",
      "\n",
      "Chunk #1\n",
      "Chunk ID: 03b13\n",
      "Summary: This chunk covers procedures for handling signed documents, specifically the need to print, sign, and then scan signature pages separately.\n",
      "Propositions:\n",
      "    -Signature pages should be printed and scanned separately if a document requires a signature.\n",
      "\n",
      "\n",
      "\n",
      "Chunk #2\n",
      "Chunk ID: c2578\n",
      "Summary: This chunk covers alternative methods for using software, specifically the PS2PSF method when Acrobat Standard or higher is not available.\n",
      "Propositions:\n",
      "    -The PS2PSF method can be used if Acrobat Standard or higher is not installed.\n",
      "\n",
      "\n",
      "\n",
      "Chunk #3\n",
      "Chunk ID: 7d1d0\n",
      "Summary: This chunk encompasses information about the file size limitations and variations on WebDCU.\n",
      "Propositions:\n",
      "    -WebDCU accepts files up to 2.0MB and file sizes can vary depending on the content.\n",
      "\n",
      "\n",
      "\n",
      "----------------------------------------------------------------------------------------------------\n",
      "pretty_print_chunk_outline\n",
      "----------------------------------------------------------------------------------------------------\n",
      "Chunk Outline\n",
      "\n",
      "Chunk ID: f8f61\n",
      "Chunk Name: \"Document Creation & Optimization Strategies\"\n",
      "Chunk Summary: This chunk focuses on strategies for creating, handling, and optimizing different document formats, emphasizing PDF management through scanner settings, Adobe Acrobat functionalities, and broad document conversion practices.\n",
      "\n",
      "Chunk ID: 03b13\n",
      "Chunk Name: \"Document Signing Procedures\"\n",
      "Chunk Summary: This chunk covers procedures for handling signed documents, specifically the need to print, sign, and then scan signature pages separately.\n",
      "\n",
      "Chunk ID: c2578\n",
      "Chunk Name: Software Alternatives\n",
      "Chunk Summary: This chunk covers alternative methods for using software, specifically the PS2PSF method when Acrobat Standard or higher is not available.\n",
      "\n",
      "Chunk ID: 7d1d0\n",
      "Chunk Name: File Size & Limitations\n",
      "Chunk Summary: This chunk encompasses information about the file size limitations and variations on WebDCU.\n",
      "----------------------------------------------------------------------------------------------------\n",
      "get_chunks\n",
      "----------------------------------------------------------------------------------------------------\n",
      "4\n"
     ]
    },
    {
     "data": {
      "text/plain": [
       "4"
      ]
     },
     "execution_count": 15,
     "metadata": {},
     "output_type": "execute_result"
    }
   ],
   "source": [
    "ac = AgenticChunker(llm = watsonx_llm, source_language = \"English\", verbose=False)\n",
    "chunks = ac.process_propositions_with_intermediate_steps(propositions=result[:15])\n",
    "len(chunks)"
   ]
  },
  {
   "cell_type": "code",
   "execution_count": 17,
   "metadata": {},
   "outputs": [
    {
     "data": {
      "text/plain": [
       "[\"PDF Files can be scanned, created, and reduced in file size. Adobe Acrobat products allow users to read, create, and manipulate PDF documents. Adobe Acrobat Standard is a sufficient product for creating PDF documents. Documents should only be scanned if they are not electronic and when creating a PDF using PDFMaker or the Print Command is not possible. Scanner settings should be adjusted before scanning documents including Document Mode, Scan to smallest size, Fast (lowest quality), Grayscale or black and white, and Resolution: 300dpi or less. Creating PDF documents can be done using the Adobe PDF Printer Command or PS2PSF. The Adobe PDF Printer Command can be used in many authoring applications by choosing File > Print and selecting Adobe PDF from the printer menu. Adobe PDF Print Command and Adobe PDF 'Reduce File Size' can be used to reduce file size. Adobe PDF 'Reduce File Size' files should be made compatible with Acrobat 5.0 or later.\",\n",
       " 'Signature pages should be printed and scanned separately if a document requires a signature.',\n",
       " 'The PS2PSF method can be used if Acrobat Standard or higher is not installed.',\n",
       " 'WebDCU accepts files up to 2.0MB and file sizes can vary depending on the content.']"
      ]
     },
     "execution_count": 17,
     "metadata": {},
     "output_type": "execute_result"
    }
   ],
   "source": [
    "chunks"
   ]
  },
  {
   "cell_type": "code",
   "execution_count": null,
   "metadata": {},
   "outputs": [],
   "source": []
  }
 ],
 "metadata": {
  "kernelspec": {
   "display_name": ".venv",
   "language": "python",
   "name": "python3"
  },
  "language_info": {
   "codemirror_mode": {
    "name": "ipython",
    "version": 3
   },
   "file_extension": ".py",
   "mimetype": "text/x-python",
   "name": "python",
   "nbconvert_exporter": "python",
   "pygments_lexer": "ipython3",
   "version": "3.12.4"
  }
 },
 "nbformat": 4,
 "nbformat_minor": 2
}
